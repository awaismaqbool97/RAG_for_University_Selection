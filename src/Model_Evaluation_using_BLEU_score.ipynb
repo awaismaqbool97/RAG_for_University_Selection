{
 "cells": [
  {
   "cell_type": "code",
   "execution_count": 1,
   "metadata": {},
   "outputs": [
    {
     "name": "stdout",
     "output_type": "stream",
     "text": [
      "Overall BLEU Score: 0.8201\n"
     ]
    }
   ],
   "source": [
    "\n",
    "import pandas as pd\n",
    "from nltk.translate.bleu_score import corpus_bleu\n",
    "\n",
    "def calculate_overall_bleu(reference_texts, generated_texts):\n",
    "    \"\"\"\n",
    "    Calculates the overall BLEU score for the dataset.\n",
    "    Args:\n",
    "    - reference_texts (list of str): The reference responses.\n",
    "    - generated_texts (list of str): The generated responses.\n",
    "\n",
    "    Returns:\n",
    "    - float: Overall BLEU score.\n",
    "    \"\"\"\n",
    "    references = [[ref.split()] for ref in reference_texts]  # Each reference is a list of tokenized words\n",
    "    generated = [gen.split() for gen in generated_texts]     # Tokenize the generated sentences\n",
    "\n",
    "    return corpus_bleu(references, generated)\n",
    "\n",
    "file_path = \"../Data/university_responses.csv\"\n",
    "df = pd.read_csv(file_path)\n",
    "\n",
    "if {'Query', 'Expected Retrieved Response', 'Reference Response'}.issubset(df.columns):\n",
    "    df['Reference Response'] = df['Reference Response'].fillna(\"\").astype(str)\n",
    "    df['Expected Retrieved'] = df['Expected Retrieved Response'].fillna(\"\").astype(str)\n",
    "\n",
    "    reference_texts = df['Reference Response'].tolist()\n",
    "    generated_texts = df['Expected Retrieved Response'].tolist()\n",
    "\n",
    "    if reference_texts and generated_texts:\n",
    "        overall_bleu = calculate_overall_bleu(reference_texts, generated_texts)\n",
    "        print(f\"Overall BLEU Score: {overall_bleu:.4f}\")\n",
    "    else:\n",
    "        print(\"No valid reference or generated texts found in the dataset.\")\n",
    "else:\n",
    "    print(\"The CSV file must contain 'Query', 'Expected Retrieved', and 'Reference Response' columns.\")\n",
    "\n"
   ]
  }
 ],
 "metadata": {
  "kernelspec": {
   "display_name": "Python 3",
   "language": "python",
   "name": "python3"
  },
  "language_info": {
   "codemirror_mode": {
    "name": "ipython",
    "version": 3
   },
   "file_extension": ".py",
   "mimetype": "text/x-python",
   "name": "python",
   "nbconvert_exporter": "python",
   "pygments_lexer": "ipython3",
   "version": "3.12.1"
  }
 },
 "nbformat": 4,
 "nbformat_minor": 2
}
