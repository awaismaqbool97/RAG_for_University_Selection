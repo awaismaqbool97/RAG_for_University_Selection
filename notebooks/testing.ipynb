{
 "cells": [
  {
   "cell_type": "code",
   "execution_count": 3,
   "metadata": {},
   "outputs": [
    {
     "name": "stdout",
     "output_type": "stream",
     "text": [
      "{'riphah international university faisalabad campus', 'ntu', 'riphah', 'nuces', 'fast', 'national textile university', 'gcuf', 'government college university faisalabad', 'gcu'}\n",
      "Provide information about ntu, riphah based on the available data.Compare the Data of mentioned universities you have and do complete analysis and comparison of information and also use rankings, strengths, opportunities etc to compare The Question is: Which university is better for Computer Science, Riphah or ntu?\n"
     ]
    }
   ],
   "source": [
    "import pandas as pd\n",
    "import re\n",
    "\n",
    "def handle_userinput(user_question):\n",
    "    data_folder = \"../Data/\"\n",
    "    csv_file = f\"{data_folder}university_overview.csv\"\n",
    "    \n",
    "    university_names = set()\n",
    "    df = pd.read_csv(csv_file)\n",
    "    if \"University_Name\" in df.columns:\n",
    "        for entry in df[\"University_Name\"].dropna():\n",
    "            names = [name.strip().lower() for name in entry.split(\"or\")]\n",
    "            university_names.update(names)\n",
    "\n",
    "    comparison_keywords = [\"compare\", \"better\", \"best\", \"vs\", \"versus\", \"comparison\"]\n",
    "    comparison_intent = any(keyword in user_question.lower() for keyword in comparison_keywords)\n",
    "\n",
    "\n",
    "    print(university_names)\n",
    "    mentioned_universities = [\n",
    "        uni for uni in university_names if re.search(rf\"\\b{re.escape(uni)}\\b\", user_question.lower())\n",
    "    ]\n",
    "    \n",
    "    if mentioned_universities:\n",
    "        prompt = f\"Provide information about {', '.join(mentioned_universities)} based on the available data.\"\n",
    "    else:\n",
    "        prompt = \"Provide generalized information combining all available university data or specific university data only being used in context in previous messages.\"\n",
    "\n",
    "    if comparison_intent:\n",
    "        added_text = \"Compare the Data of mentioned universities you have and do complete analysis and comparison of information and also use rankings, strengths, opportunities etc to compare\"\n",
    "        prompt += added_text\n",
    "    \n",
    "    full_prompt = f\"{prompt} The Question is: {user_question}\"\n",
    "    \n",
    "    print(full_prompt)\n",
    "\n",
    "user_question = \"Which university is better for Computer Science, Riphah or ntu?\"\n",
    "handle_userinput(user_question)"
   ]
  },
  {
   "cell_type": "code",
   "execution_count": 5,
   "metadata": {},
   "outputs": [
    {
     "name": "stdout",
     "output_type": "stream",
     "text": [
      "\n",
      "You are a RAG chatbot designed to assist students in gathering information about universities and help them decide where to apply. Your goal is to answer questions clearly, with a focus on factual and helpful insights from the provided university database.\n",
      "\n",
      "If the question is about comparing universities, compare them based on key factors such as rankings, course offerings, campus facilities, student satisfaction, faculty quality, research output, and other relevant criteria. Provide data-backed analysis, noting strengths and weaknesses.\n",
      "\n",
      "If the question is unclear, politely prompt the user to clarify: 'Could you please rephrase your question to be more specific about the universities or the comparison you want to make?'\n",
      "\n",
      "In case no information is available, say: 'Sorry, I don't have that specific data in my database. Please try asking about another university or a different aspect.'\n",
      "\n",
      "The question is: 'Which university is better for Computer Science, Riphah or ntu?'. If there are universities mentioned, answer based on them; otherwise, provide generalized information. Use previous messages' context if questions' intent is not known. Please ensure the information is relevant, accurate, and clearly explained.\n",
      "\n"
     ]
    }
   ],
   "source": [
    "full_prompt = f\"\"\"\n",
    "You are a RAG chatbot designed to assist students in gathering information about universities and help them decide where to apply. Your goal is to answer questions clearly, with a focus on factual and helpful insights from the provided university database.\n",
    "\n",
    "If the question is about comparing universities, compare them based on key factors such as rankings, course offerings, campus facilities, student satisfaction, faculty quality, research output, and other relevant criteria. Provide data-backed analysis, noting strengths and weaknesses.\n",
    "\n",
    "If the question is unclear, politely prompt the user to clarify: 'Could you please rephrase your question to be more specific about the universities or the comparison you want to make?'\n",
    "\n",
    "In case no information is available, say: 'Sorry, I don't have that specific data in my database. Please try asking about another university or a different aspect.'\n",
    "\n",
    "The question is: '{user_question}'. If there are universities mentioned, answer based on them; otherwise, provide generalized information. Use previous messages' context if questions' intent is not known. Please ensure the information is relevant, accurate, and clearly explained.\n",
    "\"\"\"\n",
    "\n",
    "print(full_prompt)"
   ]
  },
  {
   "cell_type": "code",
   "execution_count": 8,
   "metadata": {},
   "outputs": [
    {
     "name": "stdout",
     "output_type": "stream",
     "text": [
      "Chunks saved to Data/university_chunks.txt\n"
     ]
    }
   ],
   "source": [
    "import json\n",
    "\n",
    "def create_dynamic_chunks(data):\n",
    "    \"\"\"\n",
    "    Creates dynamic chunks based on the structure of the university data.\n",
    "    Chunks are created based on categories and context.\n",
    "    \"\"\"\n",
    "    dynamic_chunks = []\n",
    "\n",
    "    for university in data:\n",
    "        university_info = university.get(\"Information\", {})\n",
    "        university_name = university.get(\"University_Name\", \"Unknown University\")\n",
    "        \n",
    "        chunks_for_university = []\n",
    "\n",
    "        for section_name, section_data in university_info.items():\n",
    "            if isinstance(section_data, dict):\n",
    "                chunk = f\"{section_name} for {university_name}:\\n\"\n",
    "                for key, value in section_data.items():\n",
    "                    if isinstance(value, str):\n",
    "                        chunk += f\"{key}: {value}\\n\"\n",
    "                    elif isinstance(value, list):\n",
    "                        chunk += f\"{key}: {', '.join(value)}\\n\"\n",
    "                chunks_for_university.append(chunk)\n",
    "\n",
    "            elif isinstance(section_data, list):\n",
    "                chunk = f\"{section_name} for {university_name}:\\n\"\n",
    "                chunk += \", \".join(section_data) + \"\\n\"\n",
    "                chunks_for_university.append(chunk)\n",
    "\n",
    "        dynamic_chunks.append(\"\\n\".join(chunks_for_university))\n",
    "\n",
    "    return dynamic_chunks\n",
    "\n",
    "\n",
    "def load_json_data(file_path):\n",
    "    with open(file_path, 'r') as file:\n",
    "        data = json.load(file)\n",
    "    return data\n",
    "\n",
    "def save_chunks_to_file(chunks, file_path):\n",
    "    with open(file_path, 'w') as file:\n",
    "        for chunk in chunks:\n",
    "            file.write(chunk)\n",
    "            file.write(\"\\n\" + \"-\"*50 + \"\\n\")\n",
    "universities_data = load_json_data('../Data/jsondata.json')\n",
    "\n",
    "# Create dynamic chunks\n",
    "dynamic_chunks = create_dynamic_chunks(universities_data)\n",
    "\n",
    "\n",
    "\n",
    "output_file_path = '../Data/university_chunks.txt'\n",
    "save_chunks_to_file(dynamic_chunks, output_file_path)\n",
    "\n",
    "print(f\"Chunks saved to {output_file_path}\")\n",
    "\n"
   ]
  },
  {
   "cell_type": "code",
   "execution_count": 7,
   "metadata": {},
   "outputs": [
    {
     "name": "stdout",
     "output_type": "stream",
     "text": [
      "[\"Basic Details for FAST or nuces:\\nLocation: Chiniot-Faisalabad Campus\\nHistory: Established as the first private sector university in Pakistan, with a federal charter in 2000.\\nVision: To produce responsible world-class professionals who are also good human beings.\\nMission: Create a knowledge-based society, focusing on the impact of Information Technology.\\n\\nRankings for FAST or nuces:\\nRanking_International: 2000-2500\\nStrengths: Computer Science, Engineering, Business Programs\\nPrograms: BS Computer Science, BS Software Engineering, BS Artificial Intelligence, MBA, PhD Computer Science\\nFeedback: High-quality education, excellent IT infrastructure, limited focus on arts.\\nFacilities: Basketball court, cricket ground, high-speed internet, library, cafeteria.\\nBest_For: Computer Science, Software Engineering\\nPlacement_Rate: 85%\\nResearch_Opportunities: Strong in IT and AI research.\\n\\nDegrees or Courses or Programs for FAST or nuces:\\nBS: ['BS Computer Science', 'BS Software Engineering', 'BS Artificial Intelligence', 'BS Electrical Engineering', 'BS Business Administration', 'BS Business Analytics.']\\nMS: ['MS Business Administration', 'MS Biotechnology', 'MS Cyber Security']\\nPhD: ['PhD Mechanical Engineering', 'PhD Environmental Science', 'PhD Biotechnology']\\n\\nAdministration for FAST or nuces:\\nChancellor: Mr. Wasim Sajjad\\nVice-Chancellor: Dr. Aftab Maroof\\n\\nContact Details for FAST or nuces:\\nAddress: FAST-NU, FAST Square, 9 Km from Faisalabad Motorway Interchange, towards Chiniot.\\nPhone: (041) 111 128 128\\nEmail: info.cfd@nu.edu.pk\\n\\nExtracurricular activities for FAST or nuces:\\nClubs and Societies: IEEE Student Branch, Google Developer Student Club, Microsoft Learn Student Ambassadors, FAST Photography Society.\\n\\nFees or Fee Strctures for FAST or nuces:\\nBS: Rs. 10,000 per credit hour\\nMS: Rs. 12,000 per credit hour\\nPhD: Rs. 15,000 per credit hour\\n\\nRefund Details for FAST or nuces:\\nFull Refund: 7 days after start of classes\\n50% Refund: 8th to 15th day after start of classes\\nNo Refund: After 15th day\\n\", \"Basic Details for Government College University Faisalabad or GCU or GCUF:\\nLocation: Jhang Road, Faisalabad\\nHistory: Founded as a primary school in 1897, upgraded to university status in 2002.\\nVision: Empower youth with professional capabilities to contribute to sustainable socio-economic progress.\\nMission: Equip future generations with ethical standards, professional competence, and inspiring leadership.\\n\\nRankings for Government College University Faisalabad or GCU or GCUF:\\nEstablished: 2002\\nRanking_National: 8\\nRanking_International: 3000-3500\\nStrengths: Arts and Social Sciences, Engineering and Technology\\nPrograms: BS Applied Chemistry, BS Physics, BS Data Science, MSc Physics, PhD Applied Chemistry\\nFeedback: Strong legacy, excellent in arts and sciences, lacks modern IT programs.\\nFacilities: Digital library, transport facilities, health center, Wi-Fi-enabled campus.\\nBest_For: Arts, Social Sciences, and Physical Sciences\\nPlacement_Rate: 75%\\nResearch_Opportunities: Strong in arts and physical sciences research.\\n\\nDegrees or Courses or Programs for Government College University Faisalabad or GCU or GCUF:\\nBS: ['BS Applied Chemistry', 'BS Physics', 'BS Computer Science', 'BS Data Science', 'BS Information Technology']\\nMS: ['MS Civil Engineering', 'MS Software Engineering', 'MS Biotechnology']\\nPhD: ['PhD Environmental Science', 'PhD Mathematics', 'PhD Engineering Management']\\n\\nAdministration for Government College University Faisalabad or GCU or GCUF:\\nChancellor: Governor of Punjab\\nVice-Chancellor: Prof. Dr. Shahid Kamal\\n\\nContact Details for Government College University Faisalabad or GCU or GCUF:\\nAddress: Jhang Road, Faisalabad, Pakistan\\nPhone: +92-41-9201228\\nEmail: directorsports@gcuf.edu.pk\\n\\nExtracurricular activities for Government College University Faisalabad or GCU or GCUF:\\nClubs and Societies: Jinnah Debating Society, Quiz Society, Nusrat Fateh Ali Musical Society, Dramatic Society.\\n\\nFees or Fee Strctures for Government College University Faisalabad or GCU or GCUF:\\nBS: Rs. 28,200 per semester\\nMS: Rs. 32,000 per semester\\nPhD: Rs. 40,000 per semester\\n\\nRefund Details for Government College University Faisalabad or GCU or GCUF:\\nFull Refund: 10 days after start of classes\\n50% Refund: 11th to 20th day after start of classes\\nNo Refund: After 20th day\\n\", \"Basic Details for National Textile University or NTU:\\nLocation: Sheikhupura Road, Faisalabad\\nHistory: Established in 1954, upgraded to National Textile University in 2002.\\nVision: Transform socio-economic development, particularly in textile and clothing industries.\\nMission: Contribute to sustainable socio-economic development through excellence in education and research.\\n\\nRankings for National Textile University or NTU:\\nRanking_International: 2500-3000\\nStrengths: Textile Engineering, Polymer Engineering, Fashion Design\\nPrograms: BS Textile Engineering, BS Polymer Engineering, BS Fashion Design, MS Advanced Materials Engineering, PhD Textile Engineering\\nFeedback: Best for textile-related fields, modern facilities, limited non-textile programs.\\nFacilities: IT Center, textile labs, modern hostels, cafeterias, health clinic.\\nBest_For: Textile Engineering, Polymer Engineering\\nPlacement_Rate: 90%\\nResearch_Opportunities: Strong in textile research and innovation.\\n\\nDegrees or Courses or Programs for National Textile University or NTU:\\nBS: ['BS Textile Engineering', 'BS Polymer Engineering', 'BS Computer Science', 'BS Software Engineering']\\nMS: ['MS Electrical Engineering', 'MS Cyber Security', 'MS Mechanical Engineering']\\nPhD: ['PhD Mechanical Engineering', 'PhD Business Management', 'PhD Physics']\\n\\nAdministration for National Textile University or NTU:\\nChancellor: President of Pakistan\\nVice-Chancellor: Prof. Dr. Tanveer Hussain\\n\\nContact Details for National Textile University or NTU:\\nAddress: Sheikhupura Road, Faisalabad 37610, Pakistan\\nPhone: +92 (041) 9230081-90\\nEmail: info@ntu.edu.pk\\n\\nExtracurricular activities for National Textile University or NTU:\\nClubs and Societies: Society of Textile Spinners, Fashion Designers Club, Kavish Magazine Society, Computer Science Society.\\n\\nFees or Fee Strctures for National Textile University or NTU:\\nBS: Rs. 32,480 to Rs. 62,400 per semester depending on program\\nMS: Rs. 45,000 per semester\\nPhD: Rs. 50,000 per semester.\\n\\nRefund Details for National Textile University or NTU:\\nFull Refund: 5 days after start of classes\\n50% Refund: 6th to 10th day after start of classes\\nNo Refund: After 10th day\\n\", \"Basic Details for Riphah International University Faisalabad Campus or Riphah:\\nLocation: Main Satiana Road, Faisalabad\\nHistory: Established in 1995 by Islamic International Medical College Trust.\\nVision: Excel in holistic value-based education and research integrating Islamic values.\\nMission: Produce professionals with Islamic moral and ethical values.\\n\\nRankings for Riphah International University Faisalabad Campus or Riphah:\\nRanking_International: 3500-4000\\nStrengths: Health Sciences, Management, IT\\nPrograms: BS Computer Science, BS Cyber Security, BS IT, DPT, BS Human Nutrition\\nFeedback: Focused on Islamic values, good health science programs, moderate IT facilities.\\nFacilities: Digital library, healthcare facilities, prayer areas, cafeterias.\\nBest_For: Health Sciences, IT\\nPlacement_Rate: 80%\\nResearch_Opportunities: Moderate, with focus on health sciences.\\n\\nDegrees or Courses or Programs for Riphah International University Faisalabad Campus or Riphah:\\nBS: ['BS Computer Science', 'BS Cyber Security', 'BS IT', 'BS Biotechnology', 'BS Human Nutrition', 'BS Sports Science']\\nMS: ['MS Software Engineering', 'MS Business Administration', 'MS Data Science']\\nPhD: ['PhD Engineering Management', 'PhD Computer Science', 'PhD Civil Engineering']\\n\\nAdministration for Riphah International University Faisalabad Campus or Riphah:\\nChancellor: Mr. Hassan Muhammad Khan\\nVice-Chancellor: Prof. Dr. Anis Ahmad\\n\\nContact Details for Riphah International University Faisalabad Campus or Riphah:\\nAddress: Main Satiana Road, Faisalabad\\nPhone: +92 41 8777210-310\\nEmail: contact@www.riphahfsd.edu.pk\\n\\nExtracurricular activities for Riphah International University Faisalabad Campus or Riphah:\\nClubs and Societies: Riphah Adventure Club, Riphah Art Club, Quran Society, Media Society.\\n\\nFees or Fee Strctures for Riphah International University Faisalabad Campus or Riphah:\\nBS: Rs. 53,000 to Rs. 95,000 per semester depending on program\\nMS: Rs. 75,000 per semester\\nPhD: Rs. 100,000 per semester\\n\\nRefund Details for Riphah International University Faisalabad Campus or Riphah:\\nFull Refund: 7 days after start of classes\\n50% Refund: 8th to 14th day after start of classes\\nNo Refund: After 14th day\\n\"]\n"
     ]
    }
   ],
   "source": [
    "print(dynamic_chunks)"
   ]
  },
  {
   "cell_type": "markdown",
   "metadata": {},
   "source": [
    "HAD DONE AND TRIED MANY CODES, AND DID A LOT OF TESTING,BUT CONTINUED OVERWRITING CODE IN A COUPLE OF FILES, SO COULDN'T ADD HERE."
   ]
  }
 ],
 "metadata": {
  "kernelspec": {
   "display_name": "Python 3",
   "language": "python",
   "name": "python3"
  },
  "language_info": {
   "codemirror_mode": {
    "name": "ipython",
    "version": 3
   },
   "file_extension": ".py",
   "mimetype": "text/x-python",
   "name": "python",
   "nbconvert_exporter": "python",
   "pygments_lexer": "ipython3",
   "version": "3.12.1"
  }
 },
 "nbformat": 4,
 "nbformat_minor": 2
}
